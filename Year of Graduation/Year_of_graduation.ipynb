{
  "nbformat": 4,
  "nbformat_minor": 0,
  "metadata": {
    "colab": {
      "provenance": []
    },
    "kernelspec": {
      "name": "python3",
      "display_name": "Python 3"
    },
    "language_info": {
      "name": "python"
    }
  },
  "cells": [
    {
      "cell_type": "markdown",
      "source": [
        "Importing Libraries"
      ],
      "metadata": {
        "id": "p66qE1LH4yzW"
      }
    },
    {
      "cell_type": "code",
      "source": [
        "import pandas as pd\n",
        "from datetime import datetime"
      ],
      "metadata": {
        "id": "E-BaIRx54Ytu"
      },
      "execution_count": 23,
      "outputs": []
    },
    {
      "cell_type": "markdown",
      "source": [
        "Loading Data"
      ],
      "metadata": {
        "id": "vZ5bQIYR423v"
      }
    },
    {
      "cell_type": "code",
      "source": [
        "def load_data(file_path):\n",
        "    \"\"\"Load data from an Excel file and drop duplicate values.\"\"\"\n",
        "    df = pd.read_excel(file_path)\n",
        "    df.drop_duplicates(subset=['Email'], keep='first', inplace=True)\n",
        "    return df\n",
        "file_path = 'Final Lead Data.xlsx'\n",
        "df = load_data(file_path)"
      ],
      "metadata": {
        "id": "psrlTOfl4ZrO"
      },
      "execution_count": 24,
      "outputs": []
    },
    {
      "cell_type": "markdown",
      "source": [
        "Data Inspection"
      ],
      "metadata": {
        "id": "KvTUNtT_46IG"
      }
    },
    {
      "cell_type": "code",
      "source": [
        "def inspect_data(df):\n",
        "    \"\"\"Inspect data structure and summary statistics.\"\"\"\n",
        "    print(\"Data Information:\")\n",
        "    print(df.info())\n",
        "    print(\"\\nData Summary Statistics:\")\n",
        "    print(df.describe())\n",
        "    print(\"\\nFirst 5 Rows of Data:\")\n",
        "    print(df.head())\n",
        "\n",
        "inspect_data(df)"
      ],
      "metadata": {
        "colab": {
          "base_uri": "https://localhost:8080/"
        },
        "id": "bUVeAQeM4chO",
        "outputId": "54f110ed-b848-4152-d99d-303e0f18c356"
      },
      "execution_count": 25,
      "outputs": [
        {
          "output_type": "stream",
          "name": "stdout",
          "text": [
            "Data Information:\n",
            "<class 'pandas.core.frame.DataFrame'>\n",
            "Index: 2808 entries, 0 to 5260\n",
            "Data columns (total 18 columns):\n",
            " #   Column                                                  Non-Null Count  Dtype  \n",
            "---  ------                                                  --------------  -----  \n",
            " 0   ID                                                      2808 non-null   int64  \n",
            " 1   First Name                                              2808 non-null   object \n",
            " 2   Email                                                   2808 non-null   object \n",
            " 3   Gender                                                  115 non-null    object \n",
            " 4   City                                                    54 non-null     object \n",
            " 5   Created                                                 2808 non-null   object \n",
            " 6   Position                                                1 non-null      object \n",
            " 7   New College Name                                        831 non-null    object \n",
            " 8   Colleges                                                662 non-null    object \n",
            " 9   Academic Year                                           1083 non-null   float64\n",
            " 10  Branch/ Specialisation                                  1085 non-null   object \n",
            " 11  Other Branch                                            306 non-null    object \n",
            " 12  What is your current academic year?                     54 non-null     object \n",
            " 13  Company Name/ College Name                              140 non-null    object \n",
            " 14  Would you like to know more about us and our programs?  2808 non-null   object \n",
            " 15  Are you interested in knowing more about our events?    2808 non-null   object \n",
            " 16  Have you recommended Cloud Counselage to anyone?        2808 non-null   object \n",
            " 17  How did you come to know about this event?              101 non-null    object \n",
            "dtypes: float64(1), int64(1), object(16)\n",
            "memory usage: 416.8+ KB\n",
            "None\n",
            "\n",
            "Data Summary Statistics:\n",
            "                 ID  Academic Year\n",
            "count   2808.000000    1083.000000\n",
            "mean   45108.948006       2.810711\n",
            "std    14440.621811       0.814719\n",
            "min    25910.000000       1.000000\n",
            "25%    33378.000000       2.000000\n",
            "50%    39501.000000       3.000000\n",
            "75%    64193.000000       3.000000\n",
            "max    68112.000000       4.000000\n",
            "\n",
            "First 5 Rows of Data:\n",
            "      ID First Name              Email Gender City                 Created  \\\n",
            "0  68112     ANIKET     aniket@xyz.com    NaN  NaN  04/27/2022 01:41:38 pm   \n",
            "1  68110  Dhanshree  dhanshree@xyz.com    NaN  NaN  04/22/2022 04:08:38 pm   \n",
            "2  68108     Dhiraj     dhiraj@xyz.com    NaN  NaN  04/16/2022 10:31:59 pm   \n",
            "3  68106      Pooja      pooja@xyz.com    NaN  NaN  04/13/2022 10:05:15 pm   \n",
            "4  68090     Aayush     aayush@xyz.com    NaN  NaN  03/26/2022 07:02:48 pm   \n",
            "\n",
            "  Position         New College Name Colleges  Academic Year  \\\n",
            "0      NaN                      NaN      NaN            NaN   \n",
            "1      NaN  Lords Universal College      NaN            NaN   \n",
            "2      NaN                      NaN      NaN            NaN   \n",
            "3      NaN                      NaN      NaN            NaN   \n",
            "4      NaN        B.k Birla college      NaN            NaN   \n",
            "\n",
            "  Branch/ Specialisation Other Branch What is your current academic year?  \\\n",
            "0                    NaN          NaN                                 NaN   \n",
            "1                    NaN          NaN                                 NaN   \n",
            "2                    NaN          NaN                                 NaN   \n",
            "3                    NaN          NaN                                 NaN   \n",
            "4                    NaN          NaN                                 NaN   \n",
            "\n",
            "  Company Name/ College Name  \\\n",
            "0                        NaN   \n",
            "1                        NaN   \n",
            "2                        NaN   \n",
            "3                        NaN   \n",
            "4                        NaN   \n",
            "\n",
            "  Would you like to know more about us and our programs?  \\\n",
            "0                                                yes       \n",
            "1                                                yes       \n",
            "2                                                yes       \n",
            "3                                                yes       \n",
            "4                                                yes       \n",
            "\n",
            "  Are you interested in knowing more about our events?  \\\n",
            "0                                                yes     \n",
            "1                                                yes     \n",
            "2                                                yes     \n",
            "3                                                yes     \n",
            "4                                                yes     \n",
            "\n",
            "  Have you recommended Cloud Counselage to anyone?  \\\n",
            "0                                               no   \n",
            "1                                               no   \n",
            "2                                               no   \n",
            "3                                               no   \n",
            "4                                               no   \n",
            "\n",
            "  How did you come to know about this event?  \n",
            "0                                        NaN  \n",
            "1                                        NaN  \n",
            "2                                        NaN  \n",
            "3                                        NaN  \n",
            "4                                        NaN  \n"
          ]
        }
      ]
    },
    {
      "cell_type": "markdown",
      "source": [
        "Feature Engineering"
      ],
      "metadata": {
        "id": "HjY7M8Qx4-6N"
      }
    },
    {
      "cell_type": "code",
      "source": [
        "def extract_year(created_str):\n",
        "    created_date = datetime.strptime(created_str, '%m/%d/%Y %I:%M:%S %p')\n",
        "    return created_date.year\n",
        "\n",
        "# Apply the function to the 'Created' column and create a new column 'Year'\n",
        "df['Year'] = df['Created'].apply(extract_year)"
      ],
      "metadata": {
        "id": "LFLJnUpe4kvP"
      },
      "execution_count": 26,
      "outputs": []
    },
    {
      "cell_type": "markdown",
      "source": [
        "Calculate Predicted Graduation Year"
      ],
      "metadata": {
        "id": "VHg7mk6X5BwN"
      }
    },
    {
      "cell_type": "code",
      "source": [
        "def calculate_graduation_year(row):\n",
        "    \"\"\"Calculate the predicted graduation year based on academic year.\"\"\"\n",
        "    academic_year = row['Academic Year']\n",
        "    current_year = row['Year']\n",
        "    if academic_year == 1:\n",
        "        predicted_year = current_year + 3\n",
        "        context = 'Predicted based on standard 4-year course.'\n",
        "    elif academic_year == 2:\n",
        "        predicted_year = current_year + 2\n",
        "        context = 'Predicted based on standard 3-year course.'\n",
        "    elif academic_year == 3:\n",
        "        if current_year == datetime.now().year:\n",
        "            predicted_year = current_year + 1\n",
        "            context = 'Predicted based on current academic year and current date.'\n",
        "        else:\n",
        "            predicted_year = current_year + 2\n",
        "            context = 'Predicted based on standard 4-year course.'\n",
        "    elif academic_year == 4:\n",
        "        if current_year == datetime.now().year:\n",
        "            predicted_year = current_year\n",
        "            context = 'Predicted based on current academic year and current date.'\n",
        "        else:\n",
        "            predicted_year = current_year + 1\n",
        "            context = 'Predicted based on standard 4-year course.'\n",
        "    else:\n",
        "        predicted_year = pd.NA\n",
        "        context = 'Unable to predict graduation year due to invalid academic year.'\n",
        "    return predicted_year, context\n",
        "\n",
        "# Apply the function to create new columns 'Predicted Graduation Year' and 'Context'\n",
        "df['Predicted Graduation Year'], df['Context'] = zip(*df.apply(calculate_graduation_year, axis=1))"
      ],
      "metadata": {
        "id": "y-XkxGm34lU-"
      },
      "execution_count": 27,
      "outputs": []
    },
    {
      "cell_type": "markdown",
      "source": [
        "Save Results"
      ],
      "metadata": {
        "id": "zd-yMSOH5FF1"
      }
    },
    {
      "cell_type": "code",
      "source": [
        "output = df[['ID', 'First Name', 'Email', 'New College Name', 'Predicted Graduation Year', 'Context']]\n",
        "output_file_path = \"Predicted_Graduation_with_Context.xlsx\"\n",
        "output.to_excel(output_file_path, index=False, header=True)"
      ],
      "metadata": {
        "id": "qqKOm5tv4tHe"
      },
      "execution_count": 29,
      "outputs": []
    }
  ]
}